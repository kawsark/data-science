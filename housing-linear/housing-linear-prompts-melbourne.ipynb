{
 "cells": [
  {
   "cell_type": "markdown",
   "id": "54b0a781-a853-49c6-89ae-95cea958eb4b",
   "metadata": {},
   "source": [
    "# Predicting house prices using Linear Regression\n",
    "\n",
    "In this module, you will assume the role of a data acientist at AnyData company. You have been tasked with performing some exploratory data analysis and creating a model that can predict house prices based on one or more features. You will need to download the dataset, perform analysis, and then copy the results back to a private Amazon S3 bucket. You will use Python Jupyter notebooks and common Python libraries such as pandas, Matplotlib and Sklearn.\n",
    "\n",
    "This notebook has empty code-cells with comments where you will be making use of Amazon CodeWhisperer to generate recommendations to import, explore, transform your data-set and finally train a model and generate inferences."
   ]
  },
  {
   "cell_type": "markdown",
   "id": "79011a05-0261-4bb5-bd9d-ad636fdf2d3a",
   "metadata": {},
   "source": [
    "## Data Import and Exploration\n",
    "\n",
    "The housing data has been provided as a .csv file which describes house prices sold in the United States based on features such as number of bedrooms, bathrooms, sq. ft. etc. A version of this dataset is from this ML repository under the MIT license data-science."
   ]
  },
  {
   "cell_type": "markdown",
   "id": "3fe8b710-3a14-4352-9044-8f23406a5e24",
   "metadata": {},
   "source": [
    "To get started, we will import the Sagemaker library and define some global variables that will be used later in the notebook to save inference results"
   ]
  },
  {
   "cell_type": "code",
   "execution_count": null,
   "id": "0835652f-51d2-4e52-a9e3-cae11cfb33b9",
   "metadata": {
    "tags": []
   },
   "outputs": [],
   "source": [
    "# Defining global variables BUCKET and ROLE that point to the bucket assocaited with the Domain and it's execution role\n",
    "# Fetch this data by importing the Sagemaker library\n",
    "import sagemaker\n",
    "# Define the bucket associated with the Domain\n",
    "BUCKET = sagemaker.Session().default_bucket()\n",
    "# Define the IAM role associated with the Domain\n",
    "ROLE = sagemaker.get_execution_role()\n"
   ]
  },
  {
   "cell_type": "markdown",
   "id": "bd814679-11f7-4370-a768-e97fa25c39ba",
   "metadata": {},
   "source": [
    "Next, let's import a few additional libraries that you will require during the analysis"
   ]
  },
  {
   "cell_type": "code",
   "execution_count": 3,
   "id": "1737261b-3353-4645-8a13-a7c250fc93e4",
   "metadata": {
    "tags": []
   },
   "outputs": [],
   "source": [
    "import pandas as pd                               # For working with tabular data\n",
    "import matplotlib.pyplot as plt                   # For charts and visualizations\n",
    "import os                                         # For manipulating filepath names\n"
   ]
  },
  {
   "cell_type": "markdown",
   "id": "dfff83bb-51cb-46ed-a61b-ea362a062305",
   "metadata": {},
   "source": [
    "Download the public data-set using the Python requests library"
   ]
  },
  {
   "cell_type": "code",
   "execution_count": 4,
   "id": "af1b6ca7-ceda-4034-a4b6-a7897d62c518",
   "metadata": {
    "tags": []
   },
   "outputs": [
    {
     "name": "stdout",
     "output_type": "stream",
     "text": [
      "2.0.2\n"
     ]
    }
   ],
   "source": [
    "# Print Pandas version\n",
    "print(pd.__version__)"
   ]
  },
  {
   "cell_type": "markdown",
   "id": "94315e46-ac23-446a-b985-4a26fbc5538a",
   "metadata": {},
   "source": [
    "Load the data-set into a pandas data-frame and print it."
   ]
  },
  {
   "cell_type": "code",
   "execution_count": 5,
   "id": "d887fb81-3cb4-45da-9df5-261dc88e8c8f",
   "metadata": {
    "tags": []
   },
   "outputs": [],
   "source": [
    "'''Using the requests library download the CSV file from \n",
    "the url \"https://raw.githubusercontent.com/kawsark/data-science/main/housing-linear/housing-data.csv\" \n",
    "and save it to current directory\n",
    "'''\n",
    "import requests\n",
    "url = \"https://raw.githubusercontent.com/kawsark/data-science/main/housing-linear/housing-data.csv\"\n",
    "r = requests.get(url)\n",
    "with open('housing-data.csv', 'wb') as f:\n",
    "    f.write(r.content)\n",
    "    "
   ]
  },
  {
   "cell_type": "markdown",
   "id": "6166d8bd-46f4-4e7f-84ba-8e26e79830a2",
   "metadata": {},
   "source": [
    "## Data Transformation and Visualization\n",
    "\n",
    "Cleaning up data is part of nearly every machine learning project. In this module we will use Amazon CodeWhisperer to help us clean up data and visualize it."
   ]
  },
  {
   "cell_type": "markdown",
   "id": "7a7f70ea-7fec-4ce4-90d8-0d5b419607ec",
   "metadata": {},
   "source": [
    "Drop rows that contain any null values from the existing data frame. We will use price as our dependent variable and sq. ft. for independent variable. Lets visualize the relationship between these features in the training data using a scatter plot."
   ]
  },
  {
   "cell_type": "code",
   "execution_count": 11,
   "id": "fe9032ce-598c-4dfc-a382-f4d043771496",
   "metadata": {
    "tags": []
   },
   "outputs": [
    {
     "name": "stdout",
     "output_type": "stream",
     "text": [
      "        price  area  bedrooms  bathrooms  stories mainroad guestroom basement  \\\n",
      "0    13300000  7420         4          2        3      yes        no       no   \n",
      "1    12250000  8960         4          4        4      yes        no       no   \n",
      "2    12250000  9960         3          2        2      yes        no      yes   \n",
      "3    12215000  7500         4          2        2      yes        no      yes   \n",
      "4    11410000  7420         4          1        2      yes       yes      yes   \n",
      "..        ...   ...       ...        ...      ...      ...       ...      ...   \n",
      "540   1820000  3000         2          1        1      yes        no      yes   \n",
      "541   1767150  2400         3          1        1       no        no       no   \n",
      "542   1750000  3620         2          1        1      yes        no       no   \n",
      "543   1750000  2910         3          1        1       no        no       no   \n",
      "544   1750000  3850         3          1        2      yes        no       no   \n",
      "\n",
      "    hotwaterheating airconditioning  parking prefarea furnishingstatus  \n",
      "0                no             yes        2      yes        furnished  \n",
      "1                no             yes        3       no        furnished  \n",
      "2                no              no        2      yes   semi-furnished  \n",
      "3                no             yes        3      yes        furnished  \n",
      "4                no             yes        2       no        furnished  \n",
      "..              ...             ...      ...      ...              ...  \n",
      "540              no              no        2       no      unfurnished  \n",
      "541              no              no        0       no   semi-furnished  \n",
      "542              no              no        0       no      unfurnished  \n",
      "543              no              no        0       no        furnished  \n",
      "544              no              no        0       no      unfurnished  \n",
      "\n",
      "[545 rows x 13 columns]\n",
      "<class 'pandas.core.frame.DataFrame'>\n",
      "RangeIndex: 545 entries, 0 to 544\n",
      "Data columns (total 13 columns):\n",
      " #   Column            Non-Null Count  Dtype \n",
      "---  ------            --------------  ----- \n",
      " 0   price             545 non-null    int64 \n",
      " 1   area              545 non-null    int64 \n",
      " 2   bedrooms          545 non-null    int64 \n",
      " 3   bathrooms         545 non-null    int64 \n",
      " 4   stories           545 non-null    int64 \n",
      " 5   mainroad          545 non-null    object\n",
      " 6   guestroom         545 non-null    object\n",
      " 7   basement          545 non-null    object\n",
      " 8   hotwaterheating   545 non-null    object\n",
      " 9   airconditioning   545 non-null    object\n",
      " 10  parking           545 non-null    int64 \n",
      " 11  prefarea          545 non-null    object\n",
      " 12  furnishingstatus  545 non-null    object\n",
      "dtypes: int64(6), object(7)\n",
      "memory usage: 55.5+ KB\n",
      "None\n"
     ]
    }
   ],
   "source": [
    "# Load the Melbourne_housing_FULL.csv to a pandas dataframe \n",
    "housing_df = pd.read_csv('Housing.csv')\n",
    "\n",
    "# print the dataframe\n",
    "print(housing_df)\n",
    "\n",
    "# get information about the dataframe\n",
    "print(housing_df.info())\n"
   ]
  },
  {
   "cell_type": "markdown",
   "id": "12929943-f5a6-4501-a6fa-a05f4c7cfdcc",
   "metadata": {},
   "source": [
    "Lets use one hot encoding to convert the `Type` column from categorical to numerical data"
   ]
  },
  {
   "cell_type": "code",
   "execution_count": 12,
   "id": "9b7719e8-2978-40b6-88f8-68649d148399",
   "metadata": {
    "tags": []
   },
   "outputs": [
    {
     "name": "stdout",
     "output_type": "stream",
     "text": [
      "        price  area  bedrooms  bathrooms  stories mainroad guestroom basement  \\\n",
      "0    13300000  7420         4          2        3      yes        no       no   \n",
      "1    12250000  8960         4          4        4      yes        no       no   \n",
      "2    12250000  9960         3          2        2      yes        no      yes   \n",
      "3    12215000  7500         4          2        2      yes        no      yes   \n",
      "4    11410000  7420         4          1        2      yes       yes      yes   \n",
      "..        ...   ...       ...        ...      ...      ...       ...      ...   \n",
      "540   1820000  3000         2          1        1      yes        no      yes   \n",
      "541   1767150  2400         3          1        1       no        no       no   \n",
      "542   1750000  3620         2          1        1      yes        no       no   \n",
      "543   1750000  2910         3          1        1       no        no       no   \n",
      "544   1750000  3850         3          1        2      yes        no       no   \n",
      "\n",
      "    hotwaterheating airconditioning  parking prefarea  \\\n",
      "0                no             yes        2      yes   \n",
      "1                no             yes        3       no   \n",
      "2                no              no        2      yes   \n",
      "3                no             yes        3      yes   \n",
      "4                no             yes        2       no   \n",
      "..              ...             ...      ...      ...   \n",
      "540              no              no        2       no   \n",
      "541              no              no        0       no   \n",
      "542              no              no        0       no   \n",
      "543              no              no        0       no   \n",
      "544              no              no        0       no   \n",
      "\n",
      "     furnishingstatus_furnished  furnishingstatus_semi-furnished  \\\n",
      "0                          True                            False   \n",
      "1                          True                            False   \n",
      "2                         False                             True   \n",
      "3                          True                            False   \n",
      "4                          True                            False   \n",
      "..                          ...                              ...   \n",
      "540                       False                            False   \n",
      "541                       False                             True   \n",
      "542                       False                            False   \n",
      "543                        True                            False   \n",
      "544                       False                            False   \n",
      "\n",
      "     furnishingstatus_unfurnished  \n",
      "0                           False  \n",
      "1                           False  \n",
      "2                           False  \n",
      "3                           False  \n",
      "4                           False  \n",
      "..                            ...  \n",
      "540                          True  \n",
      "541                         False  \n",
      "542                          True  \n",
      "543                         False  \n",
      "544                          True  \n",
      "\n",
      "[545 rows x 15 columns]\n"
     ]
    }
   ],
   "source": [
    "#Use one hot encoding to convert furnishingstatus column and show the new dataframe\n",
    "housing_df = pd.get_dummies(housing_df, columns=['furnishingstatus'])\n",
    "print(housing_df)"
   ]
  },
  {
   "cell_type": "markdown",
   "id": "55084e0a-7f25-43c6-a22e-0e1bf5da2e18",
   "metadata": {},
   "source": [
    "Next using CodeWhisperer, we will drop the `lot_size` column. While this feature may influence house prices, we will exclude it from our analysis for now."
   ]
  },
  {
   "cell_type": "code",
   "execution_count": null,
   "id": "0133e02c-7dad-4737-9167-17d7a19f5e4a",
   "metadata": {},
   "outputs": [],
   "source": []
  },
  {
   "cell_type": "code",
   "execution_count": 13,
   "id": "4d661277-60cb-47a8-a0fe-8e4b7c75e6c8",
   "metadata": {
    "tags": []
   },
   "outputs": [
    {
     "name": "stdout",
     "output_type": "stream",
     "text": [
      "<class 'pandas.core.frame.DataFrame'>\n",
      "RangeIndex: 545 entries, 0 to 544\n",
      "Data columns (total 14 columns):\n",
      " #   Column                           Non-Null Count  Dtype \n",
      "---  ------                           --------------  ----- \n",
      " 0   price                            545 non-null    int64 \n",
      " 1   area                             545 non-null    int64 \n",
      " 2   bedrooms                         545 non-null    int64 \n",
      " 3   bathrooms                        545 non-null    int64 \n",
      " 4   stories                          545 non-null    int64 \n",
      " 5   mainroad                         545 non-null    object\n",
      " 6   guestroom                        545 non-null    object\n",
      " 7   basement                         545 non-null    object\n",
      " 8   hotwaterheating                  545 non-null    object\n",
      " 9   airconditioning                  545 non-null    object\n",
      " 10  parking                          545 non-null    int64 \n",
      " 11  furnishingstatus_furnished       545 non-null    bool  \n",
      " 12  furnishingstatus_semi-furnished  545 non-null    bool  \n",
      " 13  furnishingstatus_unfurnished     545 non-null    bool  \n",
      "dtypes: bool(3), int64(6), object(5)\n",
      "memory usage: 48.6+ KB\n",
      "None\n"
     ]
    }
   ],
   "source": [
    "# Drop the `Address` column\n",
    "housing_df = housing_df.drop(columns=['prefarea'])\n",
    "#get information about the dataframe\n",
    "print(housing_df.info())"
   ]
  },
  {
   "cell_type": "markdown",
   "id": "e4d7f680-cf48-4d71-a981-aef3704b37d0",
   "metadata": {},
   "source": [
    "## Model Inference\n",
    "\n",
    "We will use Amazon CodeWhisperer to create a linear regression model that can predict house prices based on the sq. ft. You can extend this example to multi-variable linear regression and incorporate other features such as Bed, Bath, Lot Size, or the style feature wherer we performed 1-hot encoding in the previous step."
   ]
  },
  {
   "cell_type": "markdown",
   "id": "1e50e359-b0c5-4e39-9e9c-9167490b21dd",
   "metadata": {},
   "source": [
    "### Create model and fit to data\n",
    "We will use the Python sklearn library to create the model and indicate that in a comment to provide context for CodeWhisperer. There are two additional steps for fitting the model to our housing data and CodeWhisperer can help us with both of these steps.\n"
   ]
  },
  {
   "cell_type": "code",
   "execution_count": 14,
   "id": "1b627cb5-1086-4fdb-846c-be08e5fb9232",
   "metadata": {
    "tags": []
   },
   "outputs": [
    {
     "data": {
      "text/plain": [
       "Text(0, 0.5, 'price')"
      ]
     },
     "execution_count": 14,
     "metadata": {},
     "output_type": "execute_result"
    },
    {
     "data": {
      "image/png": "[encoded data removed]",
      "text/plain": [
       "<Figure size 640x480 with 1 Axes>"
      ]
     },
     "metadata": {},
     "output_type": "display_data"
    }
   ],
   "source": [
    "# Drop the rows with null values\n",
    "data = housing_df.dropna()\n",
    "\n",
    "# Get x values from the Rooms column\n",
    "x = data[\"area\"]\n",
    "\n",
    "# Get y values from the Price column\n",
    "y = data[\"price\"]\n",
    "\n",
    "# plot the x and y values\n",
    "plt.plot(x, y, \"o\")\n",
    "\n",
    "# Label the x and y axes\n",
    "plt.xlabel(\"area\")\n",
    "\n",
    "plt.ylabel(\"price\")"
   ]
  },
  {
   "cell_type": "code",
   "execution_count": 15,
   "id": "3056b16b-1692-47ec-9e16-ce2663fd02ff",
   "metadata": {
    "tags": []
   },
   "outputs": [],
   "source": [
    "# Create a liner regression model using the sklearn library\n",
    "from sklearn.linear_model import LinearRegression\n",
    "\n",
    "# Define a function to fit the linear regression model\n",
    "def fit_linear_regression(x, y):\n",
    "    model = LinearRegression()\n",
    "    # Fit the linear regression model\n",
    "    model.fit(x.values.reshape(-1, 1), y)\n",
    "    # Return the model\n",
    "    return model\n",
    "\n",
    "# call the fit_linear_regression function and pass x and y as arguments\n",
    "model = fit_linear_regression(x, y)"
   ]
  },
  {
   "cell_type": "markdown",
   "id": "8be4af64-8caf-425e-9656-3a2ba82c9f67",
   "metadata": {},
   "source": [
    "### Visualizing the regression line\n",
    "\n",
    "In the next code block, we will scatter plot the original values for x and y along with the regression line"
   ]
  },
  {
   "cell_type": "code",
   "execution_count": 16,
   "id": "cf7c4879-ecee-4609-a200-d8221c9c9301",
   "metadata": {
    "tags": []
   },
   "outputs": [
    {
     "data": {
      "image/png": "[encoded data removed]",
      "text/plain": [
       "<Figure size 640x480 with 1 Axes>"
      ]
     },
     "metadata": {},
     "output_type": "display_data"
    }
   ],
   "source": [
    "# Plot the original x and y values \n",
    "plt.plot(x, y, \"o\")\n",
    "\n",
    "# Plot the regression line\n",
    "plt.plot(x, model.predict(x.values.reshape(-1, 1)))\n",
    "\n",
    "# Label the axes\n",
    "plt.xlabel(\"area\")\n",
    "plt.ylabel(\"price\")\n",
    "plt.show()"
   ]
  },
  {
   "cell_type": "markdown",
   "id": "2e3c58b4-fc39-41aa-be97-c6603a77a93c",
   "metadata": {},
   "source": [
    "### Predicting house price\n",
    "\n",
    "We can predict the price of a house based on the sq. ft. using the regression line. For example, lets predict the price of a house of 5000 sq. ft."
   ]
  },
  {
   "cell_type": "code",
   "execution_count": 5,
   "id": "7bcadc2a-1bb2-446a-a96d-c063e4899912",
   "metadata": {
    "tags": []
   },
   "outputs": [],
   "source": []
  },
  {
   "cell_type": "markdown",
   "id": "1f9a9ae6-94eb-486f-91b3-e7dee02162c8",
   "metadata": {},
   "source": [
    "### Save results to S3 bucket\n",
    "\n",
    "Write the results to a csv file and upload this file to an S3 bucket using the Python Boto3 SDK. Use CodeWhisperer suggestions to complete this task easily."
   ]
  },
  {
   "cell_type": "code",
   "execution_count": null,
   "id": "d5f437cb-0d94-4b34-8391-df21b522d711",
   "metadata": {},
   "outputs": [],
   "source": []
  }
 ],
 "metadata": {
  "availableInstances": [
   {
    "_defaultOrder": 0,
    "_isFastLaunch": true,
    "category": "General purpose",
    "gpuNum": 0,
    "hideHardwareSpecs": false,
    "memoryGiB": 4,
    "name": "ml.t3.medium",
    "vcpuNum": 2
   },
   {
    "_defaultOrder": 1,
    "_isFastLaunch": false,
    "category": "General purpose",
    "gpuNum": 0,
    "hideHardwareSpecs": false,
    "memoryGiB": 8,
    "name": "ml.t3.large",
    "vcpuNum": 2
   },
   {
    "_defaultOrder": 2,
    "_isFastLaunch": false,
    "category": "General purpose",
    "gpuNum": 0,
    "hideHardwareSpecs": false,
    "memoryGiB": 16,
    "name": "ml.t3.xlarge",
    "vcpuNum": 4
   },
   {
    "_defaultOrder": 3,
    "_isFastLaunch": false,
    "category": "General purpose",
    "gpuNum": 0,
    "hideHardwareSpecs": false,
    "memoryGiB": 32,
    "name": "ml.t3.2xlarge",
    "vcpuNum": 8
   },
   {
    "_defaultOrder": 4,
    "_isFastLaunch": true,
    "category": "General purpose",
    "gpuNum": 0,
    "hideHardwareSpecs": false,
    "memoryGiB": 8,
    "name": "ml.m5.large",
    "vcpuNum": 2
   },
   {
    "_defaultOrder": 5,
    "_isFastLaunch": false,
    "category": "General purpose",
    "gpuNum": 0,
    "hideHardwareSpecs": false,
    "memoryGiB": 16,
    "name": "ml.m5.xlarge",
    "vcpuNum": 4
   },
   {
    "_defaultOrder": 6,
    "_isFastLaunch": false,
    "category": "General purpose",
    "gpuNum": 0,
    "hideHardwareSpecs": false,
    "memoryGiB": 32,
    "name": "ml.m5.2xlarge",
    "vcpuNum": 8
   },
   {
    "_defaultOrder": 7,
    "_isFastLaunch": false,
    "category": "General purpose",
    "gpuNum": 0,
    "hideHardwareSpecs": false,
    "memoryGiB": 64,
    "name": "ml.m5.4xlarge",
    "vcpuNum": 16
   },
   {
    "_defaultOrder": 8,
    "_isFastLaunch": false,
    "category": "General purpose",
    "gpuNum": 0,
    "hideHardwareSpecs": false,
    "memoryGiB": 128,
    "name": "ml.m5.8xlarge",
    "vcpuNum": 32
   },
   {
    "_defaultOrder": 9,
    "_isFastLaunch": false,
    "category": "General purpose",
    "gpuNum": 0,
    "hideHardwareSpecs": false,
    "memoryGiB": 192,
    "name": "ml.m5.12xlarge",
    "vcpuNum": 48
   },
   {
    "_defaultOrder": 10,
    "_isFastLaunch": false,
    "category": "General purpose",
    "gpuNum": 0,
    "hideHardwareSpecs": false,
    "memoryGiB": 256,
    "name": "ml.m5.16xlarge",
    "vcpuNum": 64
   },
   {
    "_defaultOrder": 11,
    "_isFastLaunch": false,
    "category": "General purpose",
    "gpuNum": 0,
    "hideHardwareSpecs": false,
    "memoryGiB": 384,
    "name": "ml.m5.24xlarge",
    "vcpuNum": 96
   },
   {
    "_defaultOrder": 12,
    "_isFastLaunch": false,
    "category": "General purpose",
    "gpuNum": 0,
    "hideHardwareSpecs": false,
    "memoryGiB": 8,
    "name": "ml.m5d.large",
    "vcpuNum": 2
   },
   {
    "_defaultOrder": 13,
    "_isFastLaunch": false,
    "category": "General purpose",
    "gpuNum": 0,
    "hideHardwareSpecs": false,
    "memoryGiB": 16,
    "name": "ml.m5d.xlarge",
    "vcpuNum": 4
   },
   {
    "_defaultOrder": 14,
    "_isFastLaunch": false,
    "category": "General purpose",
    "gpuNum": 0,
    "hideHardwareSpecs": false,
    "memoryGiB": 32,
    "name": "ml.m5d.2xlarge",
    "vcpuNum": 8
   },
   {
    "_defaultOrder": 15,
    "_isFastLaunch": false,
    "category": "General purpose",
    "gpuNum": 0,
    "hideHardwareSpecs": false,
    "memoryGiB": 64,
    "name": "ml.m5d.4xlarge",
    "vcpuNum": 16
   },
   {
    "_defaultOrder": 16,
    "_isFastLaunch": false,
    "category": "General purpose",
    "gpuNum": 0,
    "hideHardwareSpecs": false,
    "memoryGiB": 128,
    "name": "ml.m5d.8xlarge",
    "vcpuNum": 32
   },
   {
    "_defaultOrder": 17,
    "_isFastLaunch": false,
    "category": "General purpose",
    "gpuNum": 0,
    "hideHardwareSpecs": false,
    "memoryGiB": 192,
    "name": "ml.m5d.12xlarge",
    "vcpuNum": 48
   },
   {
    "_defaultOrder": 18,
    "_isFastLaunch": false,
    "category": "General purpose",
    "gpuNum": 0,
    "hideHardwareSpecs": false,
    "memoryGiB": 256,
    "name": "ml.m5d.16xlarge",
    "vcpuNum": 64
   },
   {
    "_defaultOrder": 19,
    "_isFastLaunch": false,
    "category": "General purpose",
    "gpuNum": 0,
    "hideHardwareSpecs": false,
    "memoryGiB": 384,
    "name": "ml.m5d.24xlarge",
    "vcpuNum": 96
   },
   {
    "_defaultOrder": 20,
    "_isFastLaunch": false,
    "category": "General purpose",
    "gpuNum": 0,
    "hideHardwareSpecs": true,
    "memoryGiB": 0,
    "name": "ml.geospatial.interactive",
    "supportedImageNames": [
     "sagemaker-geospatial-v1-0"
    ],
    "vcpuNum": 0
   },
   {
    "_defaultOrder": 21,
    "_isFastLaunch": true,
    "category": "Compute optimized",
    "gpuNum": 0,
    "hideHardwareSpecs": false,
    "memoryGiB": 4,
    "name": "ml.c5.large",
    "vcpuNum": 2
   },
   {
    "_defaultOrder": 22,
    "_isFastLaunch": false,
    "category": "Compute optimized",
    "gpuNum": 0,
    "hideHardwareSpecs": false,
    "memoryGiB": 8,
    "name": "ml.c5.xlarge",
    "vcpuNum": 4
   },
   {
    "_defaultOrder": 23,
    "_isFastLaunch": false,
    "category": "Compute optimized",
    "gpuNum": 0,
    "hideHardwareSpecs": false,
    "memoryGiB": 16,
    "name": "ml.c5.2xlarge",
    "vcpuNum": 8
   },
   {
    "_defaultOrder": 24,
    "_isFastLaunch": false,
    "category": "Compute optimized",
    "gpuNum": 0,
    "hideHardwareSpecs": false,
    "memoryGiB": 32,
    "name": "ml.c5.4xlarge",
    "vcpuNum": 16
   },
   {
    "_defaultOrder": 25,
    "_isFastLaunch": false,
    "category": "Compute optimized",
    "gpuNum": 0,
    "hideHardwareSpecs": false,
    "memoryGiB": 72,
    "name": "ml.c5.9xlarge",
    "vcpuNum": 36
   },
   {
    "_defaultOrder": 26,
    "_isFastLaunch": false,
    "category": "Compute optimized",
    "gpuNum": 0,
    "hideHardwareSpecs": false,
    "memoryGiB": 96,
    "name": "ml.c5.12xlarge",
    "vcpuNum": 48
   },
   {
    "_defaultOrder": 27,
    "_isFastLaunch": false,
    "category": "Compute optimized",
    "gpuNum": 0,
    "hideHardwareSpecs": false,
    "memoryGiB": 144,
    "name": "ml.c5.18xlarge",
    "vcpuNum": 72
   },
   {
    "_defaultOrder": 28,
    "_isFastLaunch": false,
    "category": "Compute optimized",
    "gpuNum": 0,
    "hideHardwareSpecs": false,
    "memoryGiB": 192,
    "name": "ml.c5.24xlarge",
    "vcpuNum": 96
   },
   {
    "_defaultOrder": 29,
    "_isFastLaunch": true,
    "category": "Accelerated computing",
    "gpuNum": 1,
    "hideHardwareSpecs": false,
    "memoryGiB": 16,
    "name": "ml.g4dn.xlarge",
    "vcpuNum": 4
   },
   {
    "_defaultOrder": 30,
    "_isFastLaunch": false,
    "category": "Accelerated computing",
    "gpuNum": 1,
    "hideHardwareSpecs": false,
    "memoryGiB": 32,
    "name": "ml.g4dn.2xlarge",
    "vcpuNum": 8
   },
   {
    "_defaultOrder": 31,
    "_isFastLaunch": false,
    "category": "Accelerated computing",
    "gpuNum": 1,
    "hideHardwareSpecs": false,
    "memoryGiB": 64,
    "name": "ml.g4dn.4xlarge",
    "vcpuNum": 16
   },
   {
    "_defaultOrder": 32,
    "_isFastLaunch": false,
    "category": "Accelerated computing",
    "gpuNum": 1,
    "hideHardwareSpecs": false,
    "memoryGiB": 128,
    "name": "ml.g4dn.8xlarge",
    "vcpuNum": 32
   },
   {
    "_defaultOrder": 33,
    "_isFastLaunch": false,
    "category": "Accelerated computing",
    "gpuNum": 4,
    "hideHardwareSpecs": false,
    "memoryGiB": 192,
    "name": "ml.g4dn.12xlarge",
    "vcpuNum": 48
   },
   {
    "_defaultOrder": 34,
    "_isFastLaunch": false,
    "category": "Accelerated computing",
    "gpuNum": 1,
    "hideHardwareSpecs": false,
    "memoryGiB": 256,
    "name": "ml.g4dn.16xlarge",
    "vcpuNum": 64
   },
   {
    "_defaultOrder": 35,
    "_isFastLaunch": false,
    "category": "Accelerated computing",
    "gpuNum": 1,
    "hideHardwareSpecs": false,
    "memoryGiB": 61,
    "name": "ml.p3.2xlarge",
    "vcpuNum": 8
   },
   {
    "_defaultOrder": 36,
    "_isFastLaunch": false,
    "category": "Accelerated computing",
    "gpuNum": 4,
    "hideHardwareSpecs": false,
    "memoryGiB": 244,
    "name": "ml.p3.8xlarge",
    "vcpuNum": 32
   },
   {
    "_defaultOrder": 37,
    "_isFastLaunch": false,
    "category": "Accelerated computing",
    "gpuNum": 8,
    "hideHardwareSpecs": false,
    "memoryGiB": 488,
    "name": "ml.p3.16xlarge",
    "vcpuNum": 64
   },
   {
    "_defaultOrder": 38,
    "_isFastLaunch": false,
    "category": "Accelerated computing",
    "gpuNum": 8,
    "hideHardwareSpecs": false,
    "memoryGiB": 768,
    "name": "ml.p3dn.24xlarge",
    "vcpuNum": 96
   },
   {
    "_defaultOrder": 39,
    "_isFastLaunch": false,
    "category": "Memory Optimized",
    "gpuNum": 0,
    "hideHardwareSpecs": false,
    "memoryGiB": 16,
    "name": "ml.r5.large",
    "vcpuNum": 2
   },
   {
    "_defaultOrder": 40,
    "_isFastLaunch": false,
    "category": "Memory Optimized",
    "gpuNum": 0,
    "hideHardwareSpecs": false,
    "memoryGiB": 32,
    "name": "ml.r5.xlarge",
    "vcpuNum": 4
   },
   {
    "_defaultOrder": 41,
    "_isFastLaunch": false,
    "category": "Memory Optimized",
    "gpuNum": 0,
    "hideHardwareSpecs": false,
    "memoryGiB": 64,
    "name": "ml.r5.2xlarge",
    "vcpuNum": 8
   },
   {
    "_defaultOrder": 42,
    "_isFastLaunch": false,
    "category": "Memory Optimized",
    "gpuNum": 0,
    "hideHardwareSpecs": false,
    "memoryGiB": 128,
    "name": "ml.r5.4xlarge",
    "vcpuNum": 16
   },
   {
    "_defaultOrder": 43,
    "_isFastLaunch": false,
    "category": "Memory Optimized",
    "gpuNum": 0,
    "hideHardwareSpecs": false,
    "memoryGiB": 256,
    "name": "ml.r5.8xlarge",
    "vcpuNum": 32
   },
   {
    "_defaultOrder": 44,
    "_isFastLaunch": false,
    "category": "Memory Optimized",
    "gpuNum": 0,
    "hideHardwareSpecs": false,
    "memoryGiB": 384,
    "name": "ml.r5.12xlarge",
    "vcpuNum": 48
   },
   {
    "_defaultOrder": 45,
    "_isFastLaunch": false,
    "category": "Memory Optimized",
    "gpuNum": 0,
    "hideHardwareSpecs": false,
    "memoryGiB": 512,
    "name": "ml.r5.16xlarge",
    "vcpuNum": 64
   },
   {
    "_defaultOrder": 46,
    "_isFastLaunch": false,
    "category": "Memory Optimized",
    "gpuNum": 0,
    "hideHardwareSpecs": false,
    "memoryGiB": 768,
    "name": "ml.r5.24xlarge",
    "vcpuNum": 96
   },
   {
    "_defaultOrder": 47,
    "_isFastLaunch": false,
    "category": "Accelerated computing",
    "gpuNum": 1,
    "hideHardwareSpecs": false,
    "memoryGiB": 16,
    "name": "ml.g5.xlarge",
    "vcpuNum": 4
   },
   {
    "_defaultOrder": 48,
    "_isFastLaunch": false,
    "category": "Accelerated computing",
    "gpuNum": 1,
    "hideHardwareSpecs": false,
    "memoryGiB": 32,
    "name": "ml.g5.2xlarge",
    "vcpuNum": 8
   },
   {
    "_defaultOrder": 49,
    "_isFastLaunch": false,
    "category": "Accelerated computing",
    "gpuNum": 1,
    "hideHardwareSpecs": false,
    "memoryGiB": 64,
    "name": "ml.g5.4xlarge",
    "vcpuNum": 16
   },
   {
    "_defaultOrder": 50,
    "_isFastLaunch": false,
    "category": "Accelerated computing",
    "gpuNum": 1,
    "hideHardwareSpecs": false,
    "memoryGiB": 128,
    "name": "ml.g5.8xlarge",
    "vcpuNum": 32
   },
   {
    "_defaultOrder": 51,
    "_isFastLaunch": false,
    "category": "Accelerated computing",
    "gpuNum": 1,
    "hideHardwareSpecs": false,
    "memoryGiB": 256,
    "name": "ml.g5.16xlarge",
    "vcpuNum": 64
   },
   {
    "_defaultOrder": 52,
    "_isFastLaunch": false,
    "category": "Accelerated computing",
    "gpuNum": 4,
    "hideHardwareSpecs": false,
    "memoryGiB": 192,
    "name": "ml.g5.12xlarge",
    "vcpuNum": 48
   },
   {
    "_defaultOrder": 53,
    "_isFastLaunch": false,
    "category": "Accelerated computing",
    "gpuNum": 4,
    "hideHardwareSpecs": false,
    "memoryGiB": 384,
    "name": "ml.g5.24xlarge",
    "vcpuNum": 96
   },
   {
    "_defaultOrder": 54,
    "_isFastLaunch": false,
    "category": "Accelerated computing",
    "gpuNum": 8,
    "hideHardwareSpecs": false,
    "memoryGiB": 768,
    "name": "ml.g5.48xlarge",
    "vcpuNum": 192
   },
   {
    "_defaultOrder": 55,
    "_isFastLaunch": false,
    "category": "Accelerated computing",
    "gpuNum": 8,
    "hideHardwareSpecs": false,
    "memoryGiB": 1152,
    "name": "ml.p4d.24xlarge",
    "vcpuNum": 96
   },
   {
    "_defaultOrder": 56,
    "_isFastLaunch": false,
    "category": "Accelerated computing",
    "gpuNum": 8,
    "hideHardwareSpecs": false,
    "memoryGiB": 1152,
    "name": "ml.p4de.24xlarge",
    "vcpuNum": 96
   }
  ],
  "instance_type": "ml.m5.large",
  "kernelspec": {
   "display_name": "Python 3 (ipykernel)",
   "language": "python",
   "name": "python3"
  },
  "language_info": {
   "codemirror_mode": {
    "name": "ipython",
    "version": 3
   },
   "file_extension": ".py",
   "mimetype": "text/x-python",
   "name": "python",
   "nbconvert_exporter": "python",
   "pygments_lexer": "ipython3",
   "version": "3.10.7"
  }
 },
 "nbformat": 4,
 "nbformat_minor": 5
}
