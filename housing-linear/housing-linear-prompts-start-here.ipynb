{
 "cells": [
  {
   "cell_type": "markdown",
   "id": "54b0a781-a853-49c6-89ae-95cea958eb4b",
   "metadata": {},
   "source": [
    "# Predicting house prices using Linear Regression\n",
    "\n",
    "In this module, you will assume the role of a data acientist at AnyData company. You have been tasked with performing some exploratory data analysis and creating a model that can predict house prices based on one or more features. You will need to download the dataset, perform analysis, and then copy the results back to a private Amazon S3 bucket. You will use Python Jupyter notebooks and common Python libraries such as pandas, Matplotlib and Sklearn.\n",
    "\n",
    "This notebook has empty code-cells with comments where you will be making use of Amazon CodeWhisperer to generate recommendations to import, explore, transform your data-set and finally train a model and generate inferences."
   ]
  },
  {
   "cell_type": "markdown",
   "id": "79011a05-0261-4bb5-bd9d-ad636fdf2d3a",
   "metadata": {},
   "source": [
    "## Data Import and Exploration\n",
    "\n",
    "The housing data has been provided as a .csv file which describes house prices sold in the United States based on features such as number of bedrooms, bathrooms, sq. ft. etc. A version of this dataset is from this ML repository under the MIT license data-science."
   ]
  },
  {
   "cell_type": "markdown",
   "id": "3fe8b710-3a14-4352-9044-8f23406a5e24",
   "metadata": {},
   "source": [
    "To get started, we will import the Sagemaker library and define some global variables that will be used later in the notebook to save inference results"
   ]
  },
  {
   "cell_type": "code",
   "execution_count": 2,
   "id": "0835652f-51d2-4e52-a9e3-cae11cfb33b9",
   "metadata": {
    "tags": []
   },
   "outputs": [],
   "source": []
  },
  {
   "cell_type": "markdown",
   "id": "bd814679-11f7-4370-a768-e97fa25c39ba",
   "metadata": {},
   "source": [
    "Next, let's import a few additional libraries that you will require during the analysis"
   ]
  },
  {
   "cell_type": "code",
   "execution_count": 1,
   "id": "1737261b-3353-4645-8a13-a7c250fc93e4",
   "metadata": {
    "tags": []
   },
   "outputs": [],
   "source": []
  },
  {
   "cell_type": "markdown",
   "id": "dfff83bb-51cb-46ed-a61b-ea362a062305",
   "metadata": {},
   "source": [
    "Download the public data-set using the Python requests library"
   ]
  },
  {
   "cell_type": "code",
   "execution_count": null,
   "id": "af1b6ca7-ceda-4034-a4b6-a7897d62c518",
   "metadata": {
    "tags": []
   },
   "outputs": [],
   "source": []
  },
  {
   "cell_type": "markdown",
   "id": "94315e46-ac23-446a-b985-4a26fbc5538a",
   "metadata": {},
   "source": [
    "Load the data-set into a pandas data-frame and print it."
   ]
  },
  {
   "cell_type": "code",
   "execution_count": null,
   "id": "d887fb81-3cb4-45da-9df5-261dc88e8c8f",
   "metadata": {},
   "outputs": [],
   "source": []
  },
  {
   "cell_type": "markdown",
   "id": "6166d8bd-46f4-4e7f-84ba-8e26e79830a2",
   "metadata": {},
   "source": [
    "## Data Transformation and Visualization\n",
    "\n",
    "Cleaning up data is part of nearly every machine learning project. In this module we will use Amazon CodeWhisperer to help us clean up data and visualize it."
   ]
  },
  {
   "cell_type": "markdown",
   "id": "7a7f70ea-7fec-4ce4-90d8-0d5b419607ec",
   "metadata": {},
   "source": [
    "Drop rows that contain any null values from the existing data frame. We will use price as our dependent variable and sq. ft. for independent variable. Lets visualize the relationship between these features in the training data using a scatter plot."
   ]
  },
  {
   "cell_type": "code",
   "execution_count": 2,
   "id": "fe9032ce-598c-4dfc-a382-f4d043771496",
   "metadata": {
    "tags": []
   },
   "outputs": [],
   "source": []
  },
  {
   "cell_type": "markdown",
   "id": "12929943-f5a6-4501-a6fa-a05f4c7cfdcc",
   "metadata": {},
   "source": [
    "Lets use one hot encoding to convert the `Type` column from categorical to numerical data"
   ]
  },
  {
   "cell_type": "code",
   "execution_count": null,
   "id": "9b7719e8-2978-40b6-88f8-68649d148399",
   "metadata": {},
   "outputs": [],
   "source": []
  },
  {
   "cell_type": "markdown",
   "id": "55084e0a-7f25-43c6-a22e-0e1bf5da2e18",
   "metadata": {},
   "source": [
    "Next using CodeWhisperer, we will drop the `lot_size` column. While this feature may influence house prices, we will exclude it from our analysis for now."
   ]
  },
  {
   "cell_type": "code",
   "execution_count": null,
   "id": "4d661277-60cb-47a8-a0fe-8e4b7c75e6c8",
   "metadata": {},
   "outputs": [],
   "source": []
  },
  {
   "cell_type": "markdown",
   "id": "e4d7f680-cf48-4d71-a981-aef3704b37d0",
   "metadata": {},
   "source": [
    "## Model Inference\n",
    "\n",
    "We will use Amazon CodeWhisperer to create a linear regression model that can predict house prices based on the sq. ft. You can extend this example to multi-variable linear regression and incorporate other features such as Bed, Bath, Lot Size, or the style feature wherer we performed 1-hot encoding in the previous step."
   ]
  },
  {
   "cell_type": "markdown",
   "id": "1e50e359-b0c5-4e39-9e9c-9167490b21dd",
   "metadata": {},
   "source": [
    "### Create model and fit to data"
   ]
  },
  {
   "cell_type": "code",
   "execution_count": 3,
   "id": "1b627cb5-1086-4fdb-846c-be08e5fb9232",
   "metadata": {
    "tags": []
   },
   "outputs": [],
   "source": []
  },
  {
   "cell_type": "markdown",
   "id": "8be4af64-8caf-425e-9656-3a2ba82c9f67",
   "metadata": {},
   "source": [
    "### Visualizing the regression line\n",
    "\n",
    "In the next code block, we will scatter plot the original values for x and y along with the regression line"
   ]
  },
  {
   "cell_type": "code",
   "execution_count": 4,
   "id": "cf7c4879-ecee-4609-a200-d8221c9c9301",
   "metadata": {
    "tags": []
   },
   "outputs": [],
   "source": []
  },
  {
   "cell_type": "markdown",
   "id": "2e3c58b4-fc39-41aa-be97-c6603a77a93c",
   "metadata": {},
   "source": [
    "### Predicting house price\n",
    "\n",
    "We can predict the price of a house based on the sq. ft. using the regression line. For example, lets predict the price of a house of 5000 sq. ft."
   ]
  },
  {
   "cell_type": "code",
   "execution_count": 5,
   "id": "7bcadc2a-1bb2-446a-a96d-c063e4899912",
   "metadata": {
    "tags": []
   },
   "outputs": [],
   "source": []
  },
  {
   "cell_type": "markdown",
   "id": "1f9a9ae6-94eb-486f-91b3-e7dee02162c8",
   "metadata": {},
   "source": [
    "### Save results to S3 bucket\n",
    "\n",
    "Write the results to a csv file and upload this file to an S3 bucket using the Python Boto3 SDK. Use CodeWhisperer suggestions to complete this task easily."
   ]
  },
  {
   "cell_type": "code",
   "execution_count": null,
   "id": "d5f437cb-0d94-4b34-8391-df21b522d711",
   "metadata": {},
   "outputs": [],
   "source": []
  }
 ],
 "metadata": {
  "kernelspec": {
   "display_name": "Python 3 (ipykernel)",
   "language": "python",
   "name": "python3"
  },
  "language_info": {
   "codemirror_mode": {
    "name": "ipython",
    "version": 3
   },
   "file_extension": ".py",
   "mimetype": "text/x-python",
   "name": "python",
   "nbconvert_exporter": "python",
   "pygments_lexer": "ipython3",
   "version": "3.10.7"
  }
 },
 "nbformat": 4,
 "nbformat_minor": 5
}
